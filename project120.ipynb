{
  "nbformat": 4,
  "nbformat_minor": 0,
  "metadata": {
    "colab": {
      "name": "project120",
      "provenance": [],
      "authorship_tag": "ABX9TyP528wAI56dACJ+eg94TDtF",
      "include_colab_link": true
    },
    "kernelspec": {
      "name": "python3",
      "display_name": "Python 3"
    }
  },
  "cells": [
    {
      "cell_type": "markdown",
      "metadata": {
        "id": "view-in-github",
        "colab_type": "text"
      },
      "source": [
        "<a href=\"https://colab.research.google.com/github/kalravm41/project120/blob/main/project120.ipynb\" target=\"_parent\"><img src=\"https://colab.research.google.com/assets/colab-badge.svg\" alt=\"Open In Colab\"/></a>"
      ]
    },
    {
      "cell_type": "code",
      "metadata": {
        "colab": {
          "base_uri": "https://localhost:8080/"
        },
        "id": "foCGrqqhNckF",
        "outputId": "439fa862-7d88-4c3b-9a64-360b61af8d25"
      },
      "source": [
        "import pandas as pd\n",
        "import plotly.express as px\n",
        "import csv\n",
        "\n",
        "df = pd.read_csv('data.csv')\n",
        "\n",
        "print(df)"
      ],
      "execution_count": 12,
      "outputs": [
        {
          "output_type": "stream",
          "text": [
            "     glucose  bloodpressure  diabetes\n",
            "0         40             85         0\n",
            "1         40             92         0\n",
            "2         45             63         1\n",
            "3         45             80         0\n",
            "4         40             73         1\n",
            "..       ...            ...       ...\n",
            "990       45             87         0\n",
            "991       40             83         0\n",
            "992       40             83         0\n",
            "993       40             60         1\n",
            "994       45             82         0\n",
            "\n",
            "[995 rows x 3 columns]\n"
          ],
          "name": "stdout"
        }
      ]
    },
    {
      "cell_type": "code",
      "metadata": {
        "colab": {
          "base_uri": "https://localhost:8080/"
        },
        "id": "qJp4pgaIPe3J",
        "outputId": "a8a2d2a5-155d-49ab-d6bc-6e2562087d90"
      },
      "source": [
        "X = df[['glucose','bloodpressure']]\n",
        "Y = df['diabetes']\n",
        "\n",
        "print(X,Y)"
      ],
      "execution_count": 13,
      "outputs": [
        {
          "output_type": "stream",
          "text": [
            "     glucose  bloodpressure\n",
            "0         40             85\n",
            "1         40             92\n",
            "2         45             63\n",
            "3         45             80\n",
            "4         40             73\n",
            "..       ...            ...\n",
            "990       45             87\n",
            "991       40             83\n",
            "992       40             83\n",
            "993       40             60\n",
            "994       45             82\n",
            "\n",
            "[995 rows x 2 columns] 0      0\n",
            "1      0\n",
            "2      1\n",
            "3      0\n",
            "4      1\n",
            "      ..\n",
            "990    0\n",
            "991    0\n",
            "992    0\n",
            "993    1\n",
            "994    0\n",
            "Name: diabetes, Length: 995, dtype: int64\n"
          ],
          "name": "stdout"
        }
      ]
    },
    {
      "cell_type": "code",
      "metadata": {
        "colab": {
          "base_uri": "https://localhost:8080/"
        },
        "id": "fUgltU8vQOkQ",
        "outputId": "1aa63f72-a847-4d70-ac28-c2a67502e990"
      },
      "source": [
        "from sklearn.naive_bayes import GaussianNB\n",
        "from sklearn.metrics import accuracy_score\n",
        "from sklearn.preprocessing import StandardScaler\n",
        "from sklearn.model_selection import train_test_split\n",
        "\n",
        "sc = StandardScaler()\n",
        "\n",
        "x_train,x_test,y_train,y_test = train_test_split(X,Y,test_size= 0.25, random_state= 2)\n",
        "\n",
        "X_train = sc.fit_transform(x_train)\n",
        "X_test = sc.fit_transform(x_test)\n",
        "\n",
        "model1= GaussianNB()\n",
        "model1.fit(X_train, y_train)\n",
        "\n",
        "Y_predict = model1.predict(X_test)\n",
        "\n",
        "accuracy = accuracy_score(y_test, Y_predict)\n",
        "\n",
        "print(f'accuracy of the data is: {accuracy}')\n"
      ],
      "execution_count": 16,
      "outputs": [
        {
          "output_type": "stream",
          "text": [
            "accuracy of the data is: 0.9397590361445783\n"
          ],
          "name": "stdout"
        }
      ]
    },
    {
      "cell_type": "code",
      "metadata": {
        "colab": {
          "base_uri": "https://localhost:8080/"
        },
        "id": "KbqLR4BUQrSQ",
        "outputId": "1dc6b46e-ff0a-4dd6-f66a-30371538baad"
      },
      "source": [
        "from sklearn.linear_model import LogisticRegression \n",
        "from sklearn.metrics import accuracy_score\n",
        "from sklearn.preprocessing import StandardScaler\n",
        "from sklearn.model_selection import train_test_split\n",
        "\n",
        "sc = StandardScaler()\n",
        "\n",
        "X_train1,X_test1,Y_train1,Y_test1 = train_test_split(X,Y,test_size= 0.25, random_state= 42)\n",
        "\n",
        "x_train1 = sc.fit_transform(X_train1)\n",
        "x_test1 = sc.fit_transform(X_test1)\n",
        "\n",
        "model2 = LogisticRegression()\n",
        "model2.fit(x_train1,Y_train1)\n",
        "\n",
        "y_predict1 = model2.predict(x_test1)\n",
        "\n",
        "accuracy = accuracy_score(y_predict1,Y_test1)\n",
        "\n",
        "print(f'accuracy of the data is: {accuracy}')"
      ],
      "execution_count": 18,
      "outputs": [
        {
          "output_type": "stream",
          "text": [
            "accuracy of the data is: 0.9156626506024096\n"
          ],
          "name": "stdout"
        }
      ]
    }
  ]
}